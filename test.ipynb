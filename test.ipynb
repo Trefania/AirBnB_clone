{
 "cells": [
  {
   "cell_type": "code",
   "execution_count": 5,
   "metadata": {},
   "outputs": [
    {
     "name": "stdout",
     "output_type": "stream",
     "text": [
      "{'__class__': 'BaseModel', 'id': '23f58c83-0e5e-4045-a584-57bd2834d495', 'created_at': '2022-11-25T13:56:58.643380', 'updated_at': '2022-11-25T13:56:58.643424'}\n"
     ]
    }
   ],
   "source": [
    "import re\n",
    "\n",
    "my_dict = {\"BaseModel.23f58c83-0e5e-4045-a584-57bd2834d495\": {\"__class__\": \"BaseModel\", \"id\": \"23f58c83-0e5e-4045-a584-57bd2834d495\",\n",
    "                                                    \"created_at\": \"2022-11-25T13:56:58.643380\", \"updated_at\": \"2022-11-25T13:56:58.643424\"}}\n",
    "\n",
    "# match = re.search(r'BaseModel', str(my_dict.keys()))\n",
    "for k in my_dict.keys():\n",
    "    str(k).startswith('Base')\n",
    "    print(my_dict[k])\n",
    "# print(my_dict.keys.startswith('BaseModel'))\n",
    "# print(match)"
   ]
  },
  {
   "cell_type": "code",
   "execution_count": 13,
   "metadata": {},
   "outputs": [
    {
     "name": "stdout",
     "output_type": "stream",
     "text": [
      "{'name': {'first': 'Donald', 'last': 'Amure', 'middle': 'Ade'}}\n"
     ]
    }
   ],
   "source": [
    "my_dict = {'name': {'first': \"Donald\", 'last': \"Amure\"}}\n",
    "\n",
    "inner = my_dict[\"name\"]\n",
    "inner[\"middle\"] = \"Ade\"\n",
    "print(str(my_dict))"
   ]
  },
  {
   "cell_type": "code",
   "execution_count": 11,
   "metadata": {},
   "outputs": [
    {
     "name": "stdout",
     "output_type": "stream",
     "text": [
      "<class 'dict_values'>\n"
     ]
    }
   ],
   "source": [
    "my_dict.values()\n",
    "print(type(my_dict.values()))"
   ]
  },
  {
   "cell_type": "code",
   "execution_count": null,
   "metadata": {},
   "outputs": [],
   "source": [
    "lst = args.split(\".\")\n",
    "'User' 'all'\n",
    "class_name = lst[0]\n",
    "func = lst[1] = 'all()'\n",
    "\n",
    "func.replace(\"()\", \"\")"
   ]
  },
  {
   "cell_type": "code",
   "execution_count": 6,
   "metadata": {},
   "outputs": [],
   "source": [
    "func = \"all({[]})\"\n",
    "func = func.replace(\"({[]})\", \"\")"
   ]
  },
  {
   "cell_type": "code",
   "execution_count": 7,
   "metadata": {},
   "outputs": [
    {
     "data": {
      "text/plain": [
       "'all'"
      ]
     },
     "execution_count": 7,
     "metadata": {},
     "output_type": "execute_result"
    }
   ],
   "source": [
    "func"
   ]
  },
  {
   "cell_type": "code",
   "execution_count": 1,
   "metadata": {},
   "outputs": [
    {
     "name": "stdout",
     "output_type": "stream",
     "text": [
      "hello \n"
     ]
    }
   ],
   "source": [
    "print (\"hello \")"
   ]
  },
  {
   "cell_type": "code",
   "execution_count": 29,
   "metadata": {},
   "outputs": [],
   "source": [
    "import unittest\n",
    "\n",
    "def add_fish_to_aquarium(fish_list):\n",
    "    if len(fish_list) > 10:\n",
    "        raise ValueError(\"A maximum of 10 fish can be added to the aquarium\")\n",
    "    return {\"tank_a\": fish_list}\n",
    "\n",
    "\n",
    "class TestAddFishToAquarium(unittest.TestCase):\n",
    "    def test_add_fish_to_aquarium_success(self):\n",
    "        actual = add_fish_to_aquarium(fish_list=[\"rabbit\"])\n",
    "        expected = {\"tank_a\": [\"rabbit\"]}\n",
    "        print (actual, expected)\n",
    "        self.assertEqual(actual, expected)\n",
    "        \n",
    "    def test_add_fish_to_aquarium_exception(self):\n",
    "        too_many_fish = [\"shark\"] * 5\n",
    "        with self.assertRaises(ValueError) as exception_context:\n",
    "            add_fish_to_aquarium(fish_list=too_many_fish)\n",
    "        self.(\n",
    "            str(exception_context.exception),\n",
    "            \"A maximum of 10 fish can be added to the aquarium\"\n",
    "        )"
   ]
  },
  {
   "cell_type": "code",
   "execution_count": 30,
   "metadata": {},
   "outputs": [
    {
     "ename": "AssertionError",
     "evalue": "ValueError not raised",
     "output_type": "error",
     "traceback": [
      "\u001b[1;31m---------------------------------------------------------------------------\u001b[0m",
      "\u001b[1;31mAssertionError\u001b[0m                            Traceback (most recent call last)",
      "Cell \u001b[1;32mIn [30], line 2\u001b[0m\n\u001b[0;32m      1\u001b[0m fish \u001b[39m=\u001b[39m TestAddFishToAquarium()\n\u001b[1;32m----> 2\u001b[0m fish\u001b[39m.\u001b[39;49mtest_add_fish_to_aquarium_exception()\n",
      "Cell \u001b[1;32mIn [29], line 18\u001b[0m, in \u001b[0;36mTestAddFishToAquarium.test_add_fish_to_aquarium_exception\u001b[1;34m(self)\u001b[0m\n\u001b[0;32m     16\u001b[0m \u001b[39mdef\u001b[39;00m \u001b[39mtest_add_fish_to_aquarium_exception\u001b[39m(\u001b[39mself\u001b[39m):\n\u001b[0;32m     17\u001b[0m     too_many_fish \u001b[39m=\u001b[39m [\u001b[39m\"\u001b[39m\u001b[39mshark\u001b[39m\u001b[39m\"\u001b[39m] \u001b[39m*\u001b[39m \u001b[39m5\u001b[39m\n\u001b[1;32m---> 18\u001b[0m     \u001b[39mwith\u001b[39;49;00m \u001b[39mself\u001b[39;49m\u001b[39m.\u001b[39;49massertRaises(\u001b[39mValueError\u001b[39;49;00m) \u001b[39mas\u001b[39;49;00m exception_context:\n\u001b[0;32m     19\u001b[0m         add_fish_to_aquarium(fish_list\u001b[39m=\u001b[39;49mtoo_many_fish)\n\u001b[0;32m     20\u001b[0m     \u001b[39mself\u001b[39m\u001b[39m.\u001b[39massertEqual(\n\u001b[0;32m     21\u001b[0m         \u001b[39mstr\u001b[39m(exception_context\u001b[39m.\u001b[39mexception),\n\u001b[0;32m     22\u001b[0m         \u001b[39m\"\u001b[39m\u001b[39mA maximum of 10 fish can be added to the aquarium\u001b[39m\u001b[39m\"\u001b[39m\n\u001b[0;32m     23\u001b[0m     )\n",
      "File \u001b[1;32mc:\\Users\\cash crusaders\\AppData\\Local\\Programs\\Python\\Python311\\Lib\\unittest\\case.py:262\u001b[0m, in \u001b[0;36m_AssertRaisesContext.__exit__\u001b[1;34m(self, exc_type, exc_value, tb)\u001b[0m\n\u001b[0;32m    259\u001b[0m         \u001b[39mself\u001b[39m\u001b[39m.\u001b[39m_raiseFailure(\u001b[39m\"\u001b[39m\u001b[39m{}\u001b[39;00m\u001b[39m not raised by \u001b[39m\u001b[39m{}\u001b[39;00m\u001b[39m\"\u001b[39m\u001b[39m.\u001b[39mformat(exc_name,\n\u001b[0;32m    260\u001b[0m                                                         \u001b[39mself\u001b[39m\u001b[39m.\u001b[39mobj_name))\n\u001b[0;32m    261\u001b[0m     \u001b[39melse\u001b[39;00m:\n\u001b[1;32m--> 262\u001b[0m         \u001b[39mself\u001b[39;49m\u001b[39m.\u001b[39;49m_raiseFailure(\u001b[39m\"\u001b[39;49m\u001b[39m{}\u001b[39;49;00m\u001b[39m not raised\u001b[39;49m\u001b[39m\"\u001b[39;49m\u001b[39m.\u001b[39;49mformat(exc_name))\n\u001b[0;32m    263\u001b[0m \u001b[39melse\u001b[39;00m:\n\u001b[0;32m    264\u001b[0m     traceback\u001b[39m.\u001b[39mclear_frames(tb)\n",
      "File \u001b[1;32mc:\\Users\\cash crusaders\\AppData\\Local\\Programs\\Python\\Python311\\Lib\\unittest\\case.py:199\u001b[0m, in \u001b[0;36m_BaseTestCaseContext._raiseFailure\u001b[1;34m(self, standardMsg)\u001b[0m\n\u001b[0;32m    197\u001b[0m \u001b[39mdef\u001b[39;00m \u001b[39m_raiseFailure\u001b[39m(\u001b[39mself\u001b[39m, standardMsg):\n\u001b[0;32m    198\u001b[0m     msg \u001b[39m=\u001b[39m \u001b[39mself\u001b[39m\u001b[39m.\u001b[39mtest_case\u001b[39m.\u001b[39m_formatMessage(\u001b[39mself\u001b[39m\u001b[39m.\u001b[39mmsg, standardMsg)\n\u001b[1;32m--> 199\u001b[0m     \u001b[39mraise\u001b[39;00m \u001b[39mself\u001b[39m\u001b[39m.\u001b[39mtest_case\u001b[39m.\u001b[39mfailureException(msg)\n",
      "\u001b[1;31mAssertionError\u001b[0m: ValueError not raised"
     ]
    }
   ],
   "source": [
    "fish = TestAddFishToAquarium()\n",
    "fish.test_add_fish_to_aquarium_exception()"
   ]
  },
  {
   "cell_type": "code",
   "execution_count": null,
   "metadata": {},
   "outputs": [],
   "source": []
  }
 ],
 "metadata": {
  "kernelspec": {
   "display_name": "Python 3.11.0 64-bit",
   "language": "python",
   "name": "python3"
  },
  "language_info": {
   "codemirror_mode": {
    "name": "ipython",
    "version": 3
   },
   "file_extension": ".py",
   "mimetype": "text/x-python",
   "name": "python",
   "nbconvert_exporter": "python",
   "pygments_lexer": "ipython3",
   "version": "3.11.0"
  },
  "orig_nbformat": 4,
  "vscode": {
   "interpreter": {
    "hash": "4122b4f5261b9159cc4160d0761f6e0d5662b6a5312e21b1de0eca88faf53f28"
   }
  }
 },
 "nbformat": 4,
 "nbformat_minor": 2
}
